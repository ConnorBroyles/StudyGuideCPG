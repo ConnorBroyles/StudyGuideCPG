{
 "cells": [
  {
   "cell_type": "markdown",
   "id": "9b881e3d",
   "metadata": {},
   "source": [
    "# Study Guide Part 1\n",
    "## Types of variables"
   ]
  },
  {
   "cell_type": "markdown",
   "id": "20b539af",
   "metadata": {},
   "source": [
    "#### Modulus"
   ]
  },
  {
   "cell_type": "code",
   "execution_count": 4,
   "id": "5ada8511",
   "metadata": {},
   "outputs": [
    {
     "name": "stdout",
     "output_type": "stream",
     "text": [
      "Odd!\n"
     ]
    }
   ],
   "source": [
    "#The Python modulo operator calculates the remainder of dividing two values using % sign\n",
    "\n",
    "x = 3\n",
    "if x % 2:\n",
    "    print(\"Odd!\")\n",
    "else:\n",
    "    print(\"Even!\")"
   ]
  },
  {
   "cell_type": "markdown",
   "id": "e66b2629",
   "metadata": {},
   "source": [
    "#### True Division"
   ]
  },
  {
   "cell_type": "code",
   "execution_count": 8,
   "id": "e9ff859e",
   "metadata": {},
   "outputs": [
    {
     "name": "stdout",
     "output_type": "stream",
     "text": [
      "2.0\n"
     ]
    }
   ],
   "source": [
    "# true division (/) operator will produce a true floating point result\n",
    "x = 5/2.5\n",
    "print(x)"
   ]
  },
  {
   "cell_type": "markdown",
   "id": "bd4e45ab",
   "metadata": {},
   "source": [
    "#### Floor Division"
   ]
  },
  {
   "cell_type": "code",
   "execution_count": 15,
   "id": "f16bb288",
   "metadata": {},
   "outputs": [
    {
     "name": "stdout",
     "output_type": "stream",
     "text": [
      "2.0\n"
     ]
    }
   ],
   "source": [
    "# floor division (//) returns the result of the division by operators\n",
    "y = 5//2.1251\n",
    "print(y)"
   ]
  },
  {
   "cell_type": "markdown",
   "id": "15171db3",
   "metadata": {},
   "source": [
    "#### Type"
   ]
  },
  {
   "cell_type": "code",
   "execution_count": 17,
   "id": "b3c01994",
   "metadata": {},
   "outputs": [
    {
     "data": {
      "text/plain": [
       "float"
      ]
     },
     "execution_count": 17,
     "metadata": {},
     "output_type": "execute_result"
    }
   ],
   "source": [
    "# z returns what type of variable the given variable is\n",
    "z = 1.24124124\n",
    "type(z)"
   ]
  },
  {
   "cell_type": "markdown",
   "id": "11d6a149",
   "metadata": {},
   "source": [
    "# Study Guide Part 2"
   ]
  },
  {
   "cell_type": "code",
   "execution_count": null,
   "id": "7ff006a9",
   "metadata": {},
   "outputs": [],
   "source": [
    "#Comments are used in python to describe actions and code to make it easier to understand\n",
    "\n",
    "#Arithmetic operators for math and variables\n",
    "a=1\n",
    "b=2\n",
    "c=0\n",
    "\n",
    "c = a+b\n",
    "\n",
    "#f string is used for including variables and inputs into strings\n",
    "print(f\"{a} plus {b} is {c}!\")"
   ]
  },
  {
   "cell_type": "code",
   "execution_count": 31,
   "id": "ebdb9ec4",
   "metadata": {},
   "outputs": [
    {
     "name": "stdout",
     "output_type": "stream",
     "text": [
      "Please put in a whole number:1\n",
      "That is not a whole number!\n"
     ]
    }
   ],
   "source": [
    "#Using int would be a whole interger, if you use float then you expect a decimal number like 3.124151\n",
    "#int=12\n",
    "#float=1.3154151\n",
    "user_input=(int(input(\"Please put in a whole number:\")))\n",
    "#getting user input is helpful for assigning variables to what the user wants!\n",
    "\n",
    "if (user_input % 2)==0:\n",
    "    print(\"Thank you!\")\n",
    "else:\n",
    "    print(\"That is not a whole number!\")\n",
    "#if statements to give two different paths of code based on what is happening!    \n"
   ]
  },
  {
   "cell_type": "code",
   "execution_count": 32,
   "id": "350f7beb",
   "metadata": {},
   "outputs": [
    {
     "name": "stdout",
     "output_type": "stream",
     "text": [
      "{'a', 'e', 'b'}\n",
      "Are Aa and Bb disjoint? True\n"
     ]
    }
   ],
   "source": [
    "#Symetric Difference (^)\n",
    "#symmetric_difference() method returns the symmetric difference of two sets(the unique elements).\n",
    "A = {'a', 'b', 'c', 'd'}\n",
    "B = {'c', 'd', 'e' }\n",
    "print(A.symmetric_difference(B))\n",
    "#.isdisjoint()\n",
    "#The isdisjoint() method returns True if two sets are disjoint sets. If not, it returns False.\n",
    "Aa = {1, 2, 3, 4}\n",
    "Bb = {5, 6, 7}\n",
    "print('Are Aa and Bb disjoint?', Aa.isdisjoint(Bb))\n",
    "#intersection_update(&=)\n",
    "#this removes the items that is not present in both sets\n",
    "x = {\"a\", \"b\", \"c\"}\n",
    "y = {\"c\", \"d\", \"e\"}\n",
    "z = {\"f\", \"g\", \"c\"}"
   ]
  },
  {
   "cell_type": "code",
   "execution_count": 35,
   "id": "f631b829",
   "metadata": {},
   "outputs": [
    {
     "name": "stdout",
     "output_type": "stream",
     "text": [
      "Enter your word you want translated: church\n",
      "iglesia\n",
      "Enter your word you want translated: hi\n",
      "hola\n",
      "Enter your word you want translated: 0\n",
      "None\n"
     ]
    }
   ],
   "source": [
    "#keys and disctionarys are incredibly helpful when assigning large numbers of data to other data to make a even larger data base\n",
    "#to be pulled from!\n",
    "translationdict = {'hi':'hola','bye':'adios','name':'nombre','father':'padre','mother':'madre','son':'hijo','daughter':'hija',\n",
    "                   'family':'familia','friend':'amigo','cat':'gato','dog':'perro','computer':'computadora','grass':'cesped',\n",
    "                   'videogames':'juegoes de video','church':'iglesia','car':'choche','food':'comida','joy':'alegria',\n",
    "                  'sister':'hermana','brother':'hermano',}\n",
    "#While loop allows for continus loop rather than for loop which uses a set amount of loops\n",
    "while True:\n",
    "    userinput = str(input(\"Enter your word you want translated: \"))\n",
    "    print(translationdict.get(userinput))\n",
    "    #keys and dicts can be assigned to one another to call keys and allow variables to be pulled from data bases like age, names etc!\n",
    "    if userinput == \"0\":\n",
    "        break\n",
    "        #break allows the loop to stop and end\n",
    "    else:\n",
    "        continue\n",
    "        #continue allows the loop to keep going!"
   ]
  },
  {
   "cell_type": "code",
   "execution_count": 45,
   "id": "3d6b7282",
   "metadata": {},
   "outputs": [
    {
     "name": "stdout",
     "output_type": "stream",
     "text": [
      "What is the subject's age? 1\n",
      "What is the subject's age? 12\n",
      "Minor\n"
     ]
    }
   ],
   "source": [
    "age = int(input(\"What is the subject's age? \"))\n",
    "\n",
    "for x in range(age):\n",
    "    age = int(input(\"What is the subject's age? \"))\n",
    "    if age<18 and age>0:\n",
    "        print(\"Minor\")\n",
    "        continue\n",
    "    if age<64 and age>18:\n",
    "        print(\"Adult\")\n",
    "        continue\n",
    "    if age>=64:\n",
    "        print(\"Senior Citizen\")\n",
    "        continue\n",
    "    if age==0:\n",
    "        break"
   ]
  },
  {
   "cell_type": "code",
   "execution_count": null,
   "id": "e859ad70",
   "metadata": {},
   "outputs": [],
   "source": [
    "#functions are a great way to use simular variables within code to call certain actions!\n",
    "def calcArea():\n",
    "    a = 1\n",
    "    b = 1\n",
    "    c = 1\n",
    "    #a, b, and c, variables have already been in this code but because you use them within a function they are not global and can be used again!\n",
    "    a = float(input(\"Enter the length of side A: \"))\n",
    "    b = float(input(\"Enter the length of side B: \"))\n",
    "    c = float(input(\"Enter the length of side C: \"))\n",
    "\n",
    "    s = (a+b+c)/2\n",
    "    aa = (s(s-a)(s-b)*(s-c)) ** 0.5\n",
    "\n",
    "    print(\"The area of the triangle is approximately \", aa, \"square units.\")\n",
    "\n",
    "def clacPerimeter():\n",
    "    a = 1\n",
    "    b = 1\n",
    "    c = 1\n",
    "    #a, b, and c, variables have already been in this code but because you use them within a function they are not global and can be used again!\n",
    "    a = float(input(\"Enter the length of side A: \"))\n",
    "    b = float(input(\"Enter the length of side B: \"))\n",
    "    c = float(input(\"Enter the length of side C: \"))\n",
    "\n",
    "    per = a+b+c\n",
    "    \n",
    "    #this is another way to input variables into strings without using formated strings\n",
    "    print(\"The perimeter of the triangle is \", per, \"liner units.\")\n",
    "\n",
    "#calling the fuctions name allows the user to run the code only in that function!\n",
    "calcArea()\n",
    "calcPerimeter()"
   ]
  },
  {
   "cell_type": "code",
   "execution_count": 43,
   "id": "effdef9e",
   "metadata": {},
   "outputs": [
    {
     "name": "stdout",
     "output_type": "stream",
     "text": [
      "Enter your guess: 100\n",
      "Too low! Guess again.\n",
      "Enter your guess: 500\n",
      "Too low! Guess again.\n",
      "Enter your guess: 800\n",
      "Too low! Guess again.\n",
      "Enter your guess: 900\n",
      "Too high! Guess again.\n",
      "Enter your guess: 850\n",
      "Too low! Guess again.\n",
      "Enter your guess: 870\n",
      "Too high! Guess again.\n",
      "Enter your guess: 860\n",
      "Too low! Guess again.\n",
      "Enter your guess: 865\n",
      "Too high! Guess again.\n",
      "Enter your guess: 863\n",
      "Too high! Guess again.\n",
      "Enter your guess: 861\n",
      "Correct!\n"
     ]
    }
   ],
   "source": [
    "#importing classes allows for specific actions to be possible\n",
    "#random class allows for you to generate random numbers!\n",
    "import random\n",
    "\n",
    "#generates random numbers in rage of 1,1000\n",
    "number = random.randint(1,1000)\n",
    "\n",
    "def evaluateGuess():\n",
    "\n",
    "    guess = int(input(\"Enter your guess: \"))\n",
    "    #another form of while loop other than True so you can keep going until you hit the number you are trying to guess!\n",
    "    #this condenses code but can be done with a break and true while loop\n",
    "    while guess != number:\n",
    "\n",
    "        if guess < number:\n",
    "            print(\"Too low! Guess again.\")\n",
    "            guess = int(input(\"Enter your guess: \"))\n",
    "\n",
    "        else:\n",
    "            print(\"Too high! Guess again.\")\n",
    "            guess = int(input(\"Enter your guess: \"))\n",
    "\n",
    "    print(\"Correct!\")\n",
    "#again calling by the function to run the code within it\n",
    "evaluateGuess()"
   ]
  },
  {
   "cell_type": "code",
   "execution_count": 44,
   "id": "3111194a",
   "metadata": {},
   "outputs": [
    {
     "name": "stdout",
     "output_type": "stream",
     "text": [
      "['H', 'e', 'l', 'l', 'o', ' ', 'W', 'o', 'r', 'l', 'd', '!']\n",
      "{' ', 'l', 'd', '!', 'r', 'H', 'e', 'o', 'W'}\n"
     ]
    },
    {
     "data": {
      "text/plain": [
       "{' ', '!', 'H', 'W', 'd', 'e', 'l', 'o', 'r'}"
      ]
     },
     "execution_count": 44,
     "metadata": {},
     "output_type": "execute_result"
    }
   ],
   "source": [
    "#simple tring to start of comparrison\n",
    "text = \"Hello World!\"\n",
    "\n",
    "#usining hello world as a list instead of a string. \n",
    "print(list(text))\n",
    "#when using the list it has duplicates and is in order\n",
    "['H', 'e', 'l', 'l', 'o', ' ', 'W', 'o', 'r', 'l', 'd', '!']\n",
    "\n",
    "#sets work differently in they do not have a specific order and will not contain duplicates so some letters are removed!\n",
    "print(set(text))\n",
    "{'H', 'W', 'o', ' ', 'l', 'r', '!', 'e', 'd'}"
   ]
  },
  {
   "cell_type": "markdown",
   "id": "e4a0f9fd",
   "metadata": {},
   "source": [
    "# Study Guide Part 3"
   ]
  },
  {
   "cell_type": "markdown",
   "id": "2cd8f4d3",
   "metadata": {},
   "source": [
    "### i. Append()\n",
    "\n",
    "Append adds a single item to the desired list\n",
    "\n",
    "Example: "
   ]
  },
  {
   "cell_type": "code",
   "execution_count": 47,
   "id": "0f482bc8",
   "metadata": {},
   "outputs": [
    {
     "name": "stdout",
     "output_type": "stream",
     "text": [
      "[1, 2, 3, 4, 44]\n"
     ]
    }
   ],
   "source": [
    "numbers = [1,2,3,4]\n",
    "numbers.append(44)\n",
    "print(numbers) "
   ]
  },
  {
   "cell_type": "markdown",
   "id": "47d77a53",
   "metadata": {},
   "source": [
    "## ii. Extend()\n",
    "\n",
    "Extend adds elements to the end of a list. (A string will be a element per letter)\n",
    "\n",
    "Example:"
   ]
  },
  {
   "cell_type": "code",
   "execution_count": 48,
   "id": "e6ef9069",
   "metadata": {},
   "outputs": [
    {
     "name": "stdout",
     "output_type": "stream",
     "text": [
      "[1, 2, 3, 4, 44, 'H', 'e', 'l', 'l', 'o']\n"
     ]
    }
   ],
   "source": [
    "numbers.extend(\"Hello\")\n",
    "print(numbers)"
   ]
  },
  {
   "cell_type": "markdown",
   "id": "106cccfa",
   "metadata": {},
   "source": [
    "## iii. Insert()\n",
    "\n",
    "Insert adds an element into a specific position in the list.\n",
    "\n",
    "Example:"
   ]
  },
  {
   "cell_type": "code",
   "execution_count": 49,
   "id": "93c6b1dd",
   "metadata": {},
   "outputs": [
    {
     "name": "stdout",
     "output_type": "stream",
     "text": [
      "[1, 2, 3, 4, '5', 44, 'H', 'e', 'l', 'l', 'o']\n"
     ]
    }
   ],
   "source": [
    "numbers.insert(4,\"5\")\n",
    "print(numbers)"
   ]
  },
  {
   "cell_type": "markdown",
   "id": "f12b197b",
   "metadata": {},
   "source": [
    "## iv. Remove()\n",
    "\n",
    "Remove takes away a certain element in the list.\n",
    "\n",
    "Example:"
   ]
  },
  {
   "cell_type": "code",
   "execution_count": 50,
   "id": "92fcb597",
   "metadata": {},
   "outputs": [
    {
     "name": "stdout",
     "output_type": "stream",
     "text": [
      "[1, 2, 3, 4, '5', 44, 'e', 'l', 'l', 'o']\n"
     ]
    }
   ],
   "source": [
    "numbers.remove(\"H\")\n",
    "print(numbers)"
   ]
  },
  {
   "cell_type": "markdown",
   "id": "76c916ed",
   "metadata": {},
   "source": [
    "## v. Count()\n",
    "\n",
    "Count function shows us how many times a value shows up in a list.\n",
    "\n",
    "Example:"
   ]
  },
  {
   "cell_type": "code",
   "execution_count": 51,
   "id": "08d85083",
   "metadata": {},
   "outputs": [
    {
     "data": {
      "text/plain": [
       "2"
      ]
     },
     "execution_count": 51,
     "metadata": {},
     "output_type": "execute_result"
    }
   ],
   "source": [
    "numbers.count(\"l\")"
   ]
  },
  {
   "cell_type": "markdown",
   "id": "ec90e4d4",
   "metadata": {},
   "source": [
    "## vi. index()\n",
    "\n",
    "Index returns the specific index position of an item in a list or range.\n",
    "\n",
    "Example:"
   ]
  },
  {
   "cell_type": "code",
   "execution_count": 52,
   "id": "0f84db79",
   "metadata": {},
   "outputs": [
    {
     "data": {
      "text/plain": [
       "5"
      ]
     },
     "execution_count": 52,
     "metadata": {},
     "output_type": "execute_result"
    }
   ],
   "source": [
    "numbers.index(44)"
   ]
  },
  {
   "cell_type": "markdown",
   "id": "8cbf79a8",
   "metadata": {},
   "source": [
    "## vii. Pop()\n",
    "\n",
    "Pop allows you to remove an element from a position in a list.\n",
    "\n",
    "Example:"
   ]
  },
  {
   "cell_type": "code",
   "execution_count": 53,
   "id": "10cf6212",
   "metadata": {},
   "outputs": [
    {
     "name": "stdout",
     "output_type": "stream",
     "text": [
      "[2, 3, 4, '5', 44, 'e', 'l', 'l', 'o']\n"
     ]
    }
   ],
   "source": [
    "numbers.pop(0)\n",
    "print(numbers)"
   ]
  },
  {
   "cell_type": "markdown",
   "id": "94cdd66e",
   "metadata": {},
   "source": [
    "## viii. Sorted()\n",
    "\n",
    "Sorted allows for any list or tuple to be sorted in order.\n",
    "\n",
    "Example:"
   ]
  },
  {
   "cell_type": "code",
   "execution_count": 54,
   "id": "0462af2e",
   "metadata": {},
   "outputs": [
    {
     "name": "stdout",
     "output_type": "stream",
     "text": [
      "[1, 1, 5, 6, 7, 21, 25, 81]\n"
     ]
    }
   ],
   "source": [
    "sortdlist=[1,5,1,6,7,81,21,25]\n",
    "print(sorted(sortdlist))"
   ]
  },
  {
   "cell_type": "markdown",
   "id": "e43e9c25",
   "metadata": {},
   "source": [
    "## ix. Copy()\n",
    "\n",
    "Copy allows you to copy in paste but in code, coppying a list and transfering it to another list variable that is identicle. \n",
    "\n",
    "Example: "
   ]
  },
  {
   "cell_type": "code",
   "execution_count": 55,
   "id": "de204a47",
   "metadata": {},
   "outputs": [
    {
     "name": "stdout",
     "output_type": "stream",
     "text": [
      "['John', 'Connor', 'Kadin']\n"
     ]
    }
   ],
   "source": [
    "league=[\"John\",\"Connor\",\"Kadin\"]\n",
    "\n",
    "legends=league.copy()\n",
    "\n",
    "print(legends)"
   ]
  },
  {
   "cell_type": "markdown",
   "id": "97f06ce5",
   "metadata": {},
   "source": [
    "## x. Clear()\n",
    "\n",
    "Clear will clear a list (no matter the size)\n",
    "\n",
    "Example:"
   ]
  },
  {
   "cell_type": "code",
   "execution_count": 56,
   "id": "3eacf225",
   "metadata": {},
   "outputs": [
    {
     "name": "stdout",
     "output_type": "stream",
     "text": [
      "[]\n"
     ]
    }
   ],
   "source": [
    "clearedlistexample=[1,2,5,1,152,125,15,125,1,32,62,12,41,523,11,25,152,6,23]\n",
    "clearedlistexample.clear()\n",
    "print(clearedlistexample)"
   ]
  },
  {
   "cell_type": "markdown",
   "id": "5002599a",
   "metadata": {},
   "source": [
    "## xi. Any()\n",
    "\n",
    "Any returns True if any of the elements in a List or tuple are true or else it will return False\n",
    "\n",
    "Example:"
   ]
  },
  {
   "cell_type": "code",
   "execution_count": 57,
   "id": "d32c7d61",
   "metadata": {},
   "outputs": [
    {
     "name": "stdout",
     "output_type": "stream",
     "text": [
      "True\n",
      "False\n"
     ]
    }
   ],
   "source": [
    "a=(4,1,5) #all true\n",
    "b=(0,0,0,False,False) #all false\n",
    "\n",
    "#if there is a mix it will print false\n",
    "#if there is a empty list or tuple or set it will also print false\n",
    "\n",
    "print(any(a))\n",
    "\n",
    "print(any(b))"
   ]
  },
  {
   "cell_type": "markdown",
   "id": "2d395870",
   "metadata": {},
   "source": [
    "## xii. Filter()\n",
    "\n",
    "Filter tests each element in the list to be true or false.\n",
    "\n",
    "Example:"
   ]
  },
  {
   "cell_type": "code",
   "execution_count": 59,
   "id": "7b95a76d",
   "metadata": {},
   "outputs": [],
   "source": [
    "n=\"n\"\n",
    "connor=(\"C\",\"o\",\"n\",\"n\",\"o\",\"r\")\n",
    "goodman=filter(n, connor)"
   ]
  },
  {
   "cell_type": "markdown",
   "id": "115bee43",
   "metadata": {},
   "source": [
    "## xiii. List()\n",
    "\n",
    "List creates a list in python\n",
    "\n",
    "Example:"
   ]
  },
  {
   "cell_type": "code",
   "execution_count": 60,
   "id": "e0bbca10",
   "metadata": {},
   "outputs": [
    {
     "name": "stdout",
     "output_type": "stream",
     "text": [
      "['q', 'a', 'c']\n"
     ]
    }
   ],
   "source": [
    "q = list((\"q\",\"a\",\"c\"))\n",
    "print(q)"
   ]
  },
  {
   "cell_type": "markdown",
   "id": "a53562df",
   "metadata": {},
   "source": [
    "## xiv. Map()\n",
    "\n",
    "Map allows you to process all the items in an iterable without using an explicit \"for loop\".\n",
    "\n",
    "Example:"
   ]
  },
  {
   "cell_type": "code",
   "execution_count": 61,
   "id": "5181c227",
   "metadata": {},
   "outputs": [
    {
     "data": {
      "text/plain": [
       "[1, 4, 9, 16, 25]"
      ]
     },
     "execution_count": 61,
     "metadata": {},
     "output_type": "execute_result"
    }
   ],
   "source": [
    "def square(number):\n",
    "        return number ** 2\n",
    "   \n",
    "\n",
    "        test = [1, 2, 3, 4, 5]\n",
    "\n",
    "        squared = map(square, test)\n",
    "\n",
    "        list(squared)\n",
    "[1, 4, 9, 16, 25]"
   ]
  },
  {
   "cell_type": "markdown",
   "id": "b4005c75",
   "metadata": {},
   "source": [
    "# Study Guide Part 4"
   ]
  },
  {
   "cell_type": "markdown",
   "id": "ff67ef3b",
   "metadata": {},
   "source": [
    "## i. Cmp()\n",
    "\n",
    "Cmp simply compares two integers\n",
    "\n",
    "Example: "
   ]
  },
  {
   "cell_type": "code",
   "execution_count": 62,
   "id": "8a49b155",
   "metadata": {},
   "outputs": [
    {
     "name": "stdout",
     "output_type": "stream",
     "text": [
      "The cmp value for p>u is -1\n"
     ]
    }
   ],
   "source": [
    "def cmp(p, u):\n",
    "    return (p > u) - (p < u)\n",
    "p=1\n",
    "u=2\n",
    "\n",
    "print(\"The cmp value for p>u is\", cmp(p, u))"
   ]
  },
  {
   "cell_type": "markdown",
   "id": "d07372c3",
   "metadata": {},
   "source": [
    "## ii. len()\n",
    "\n",
    "Len counts the length of the tuple\n",
    "\n",
    "Example:"
   ]
  },
  {
   "cell_type": "code",
   "execution_count": 63,
   "id": "182137c2",
   "metadata": {},
   "outputs": [
    {
     "name": "stdout",
     "output_type": "stream",
     "text": [
      "[2, 3, 4, '5', 44, 'e', 'l', 'l', 'o']\n"
     ]
    },
    {
     "data": {
      "text/plain": [
       "9"
      ]
     },
     "execution_count": 63,
     "metadata": {},
     "output_type": "execute_result"
    }
   ],
   "source": [
    "print(numbers)\n",
    "len(numbers)"
   ]
  },
  {
   "cell_type": "markdown",
   "id": "2d1ae4ea",
   "metadata": {},
   "source": [
    "## iii. Max()\n",
    "\n",
    "Max displays the highest int in a tuple or list\n",
    "\n",
    "Example:"
   ]
  },
  {
   "cell_type": "code",
   "execution_count": 64,
   "id": "addb7875",
   "metadata": {},
   "outputs": [
    {
     "data": {
      "text/plain": [
       "111111111"
      ]
     },
     "execution_count": 64,
     "metadata": {},
     "output_type": "execute_result"
    }
   ],
   "source": [
    "xam=[1,2,5,1,6,111111111]\n",
    "max(xam)"
   ]
  },
  {
   "cell_type": "markdown",
   "id": "ed4bbdf7",
   "metadata": {},
   "source": [
    "## iv. tuple(seq)\n",
    "\n",
    "Tuple(seq) creates a tuple!\n",
    "\n",
    "Example: "
   ]
  },
  {
   "cell_type": "code",
   "execution_count": 65,
   "id": "8bddbfd9",
   "metadata": {},
   "outputs": [
    {
     "name": "stdout",
     "output_type": "stream",
     "text": [
      "('1',)\n"
     ]
    }
   ],
   "source": [
    "tup1=tuple(\"1\")\n",
    "print(tup1)"
   ]
  },
  {
   "cell_type": "code",
   "execution_count": null,
   "id": "3014ebd3",
   "metadata": {},
   "outputs": [],
   "source": []
  }
 ],
 "metadata": {
  "kernelspec": {
   "display_name": "Python 3",
   "language": "python",
   "name": "python3"
  },
  "language_info": {
   "codemirror_mode": {
    "name": "ipython",
    "version": 3
   },
   "file_extension": ".py",
   "mimetype": "text/x-python",
   "name": "python",
   "nbconvert_exporter": "python",
   "pygments_lexer": "ipython3",
   "version": "3.8.8"
  }
 },
 "nbformat": 4,
 "nbformat_minor": 5
}
